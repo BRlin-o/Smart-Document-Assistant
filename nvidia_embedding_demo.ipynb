{
 "cells": [
  {
   "cell_type": "code",
   "execution_count": 362,
   "metadata": {},
   "outputs": [],
   "source": [
    "import os\n",
    "from pathlib import Path\n",
    "from langchain.chains import ConversationalRetrievalChain, LLMChain\n",
    "from langchain.chains.conversational_retrieval.prompts import CONDENSE_QUESTION_PROMPT, QA_PROMPT\n",
    "from langchain.chains.question_answering import load_qa_chain\n",
    "from langchain.memory import ConversationBufferMemory\n",
    "from langchain.vectorstores import FAISS\n",
    "from langchain.text_splitter import RecursiveCharacterTextSplitter\n",
    "from langchain_nvidia_ai_endpoints import ChatNVIDIA\n",
    "from langchain_nvidia_ai_endpoints import NVIDIAEmbeddings\n",
    "from langchain_text_splitters import MarkdownHeaderTextSplitter\n",
    "from dotenv import load_dotenv\n",
    "load_dotenv()\n",
    "\n",
    "DEFAULE_OUTPUT_DIR = Path(r\"./embed_documents\")\n",
    "# DEFAULE_OUTPUT_DIR = r\"./embed_documents\"\n",
    "\n",
    "document_mk_file = \"../finish/VIVA(2022.02).md\"\n",
    "car_model = Path(document_mk_file).stem.split(\"(\")[0]\n",
    "\n",
    "# OUTPUT_DIR = DEFAULE_OUTPUT_DIR / car_model.upper()\n",
    "OUTPUT_DIR = DEFAULE_OUTPUT_DIR\n",
    "\n",
    "\n",
    "with open(document_mk_file, \"r\", encoding=\"utf-8\") as f:\n",
    "    markdown_document = f.read()\n",
    "\n",
    "headers_to_split_on = [\n",
    "    (\"#\", \"#\"),\n",
    "    (\"##\", \"##\"),\n",
    "    (\"###\", \"###\"),\n",
    "    (\"####\", \"####\"),\n",
    "    (\"#####\", \"#####\"),\n",
    "]"
   ]
  },
  {
   "cell_type": "code",
   "execution_count": 363,
   "metadata": {},
   "outputs": [
    {
     "data": {
      "text/plain": [
       "(100,\n",
       " [Document(page_content='# Gogoro Viva  \\n發佈⽇期:2022.02.16 適⽤⾞款:\\nVIVA Lite VIVA VIVA Plus VIVA BASIC VIVA KEYLESS\\niQ System® 版本:6.5 Gogoro® App 版本:2.19 以後 製造商:睿能創意股份有限公司 地址:桃園市⿔⼭區頂湖路 33 號 電話:03-273-0900 客服中⼼電話:0800-365-996 Copyright© 2021 睿能創意股份有限公司 著作權所有,並保留⼀切權利。本⾞主⼿冊中任何部分未經睿能創意股份有限公司事 前書⾯同意,不得以任何形式轉載、複製或拷⾙。', metadata={'#': 'Gogoro Viva'}),\n",
       "  Document(page_content='## 目錄\\n| ⽬                                                                   |     |\\n|----------------------------------------------------------------------|-----|\\n| 錄                                                                   |     |\\n| 1. 在 您 上 路 之 前                                                 | 5   |\\n| 1.1 如 何 使 ⽤ 本 ⼿ 冊                                             | 5   |\\n| 1.2 安 全 提 醒                                                      | 5   |\\n| 1.2.1 每 次 騎 乘 前 應 檢 查 項 ⽬                                  | 6   |\\n| 1.3 G o g o r o S m a r t s c o o t e r ® 簡 介                      | 8   |\\n| 1.3.1 操 作 流 程 概 述                                              | 8   |\\n| 1.3.2 開 關 機 鑰 匙                                                 | 9   |\\n| 1.3.2.1 機 械 式 鑰 匙                                               | 1 0 |\\n| 1.3.2.2 iQ S y s t e m ® 無 線 智 慧 鑰 匙                           | 1 1 |\\n| 1.3.2.3 iQ S y s t e m ® 智 慧 鑰 匙 卡                              | 1 2 |\\n| 1.3.2.4 G o g o r o S m a r t C oin                                  | 1 4 |\\n| 1.3.2.5 以 ⼿ 機 作 為 鑰 匙                                         | 1 5 |\\n| 1.3.3 啟 動 及 關 閉 ⾺ 達                                           | 1 6 |\\n| 1.3.3.1 啟 動 ⾺ 達                                                  | 1 6 |\\n| 1.3.3.2 關 閉 ⾺ 達                                                  | 1 6 |\\n| 1.4 G o g o r o N e t w o r k ® 智 慧 電 池 簡 介                    | 1 7 |\\n| 1.5 G o S t a tio n ® 電 池 交 換 站 簡 介                           | 1 9 |\\n| 1.6 G o g o r o ® A p p 簡 介                                        | 2 0 |\\n| 1.7 iQ S y s t e m ® 簡 介                                           | 2 1 |\\n| 2. 認 識 您 的 S m a r t s c o o t e r ® 智 慧 電 動 機 ⾞           | 2 2 |\\n| 2.1 VIVA 系 列 各 部 位 名 稱                                        | 2 2 |\\n| 2.2 左 把 ⼿ 按 鍵                                                   | 2 5 |\\n| 2.3 儀 表 板                                                         | 2 7 |\\n| 3. 準 備 上 路                                                       | 2 9 |\\n| 3.1 機 械 式 鑰 匙 ⾞ 種                                             | 2 9 |\\n| 3.1.1 開 啟 系 統 電 源 並 解 鎖 龍 頭                               | 2 9 |\\n| 3.1.2 關 閉 系 統 電 源 並 上 鎖 龍 頭                               | 2 9 |\\n| 3.1.3 雙 重 防 盜 鎖                                                 | 3 0 |\\n| 3.1.4 開 啟 座 墊 下 置 物 箱                                        | 3 1 |\\n| 3.1.5 休 眠 模 式                                                    | 3 2 |\\n| 3.2 無 線 鑰 匙 ⾞ 種                                                | 3 3 |\\n| 3.2.1 iQ S y s t e m ® 無 線 智 慧 鑰 匙                             | 3 4 |\\n| 3.2.1.1 開 啟 系 統 電 源 並 解 鎖 龍 頭                             | 3 4 |\\n| 3.2.1.2 關 閉 系 統 電 源 及 上 鎖 龍 頭                             | 3 4 |\\n| 3.2.1.3 開 啟 座 墊 下 置 物 箱                                      | 3 4 |\\n| 3.2.2 iQ S y s t e m ® 智 慧 鑰 匙 卡                                | 3 5 |\\n| 3.2.2.1 iQ S y s t e m ® 智 慧 鑰 匙 卡 感 應 器 位 置               | 3 6 |\\n| 3.2.2.2 開 啟 系 統 電 源 並 解 鎖 龍 頭                             | 3 7 |\\n| 3.2.2.3 關 閉 系 統 電 源 及 上 鎖 龍 頭                             | 3 7 |\\n| 3.2.2.4 開 啟 座 墊 下 置 物 箱                                      | 3 7 |\\n| 3.2.2.5 G o g o r o S m a r t C oin                                  | 3 7 |\\n| 3.2.3 ⼿ 機 做 為 遙 控 器 時                                        | 3 8 |\\n| 3.2.3.1 開 啟 系 統 電 源 並 解 鎖 龍 頭                             | 3 8 |\\n| 3.2.3.2 關 閉 系 統 電 源 及 上 鎖 龍 頭                             | 3 8 |\\n| 3.2.3.3 雙 重 防 盜 鎖                                               | 3 8 |\\n| 3.2.3.4 開 啟 座 墊 下 置 物 箱                                      | 3 9 |\\n| 3.2.4 ⼿ 機 做 為 免 鑰 匙 智 慧 感 應 器 時 ( 智 慧 感 應 解 鎖 ) | 4 0 |\\n| 3.2.4.1 開 啟 系 統 電 源 並 解 鎖 龍 頭                             | 4 0 |\\n| 3.2.4.2 關 閉 系 統 電 源                                            | 4 0 |\\n| 3.2.5 倒 數 計 時 ⾃ 動 上 鎖                                        | 4 1 |  \\n| 3.2.6 快 速 關 機 組 合 鍵                                              | 4 1   |\\n|-------------------------------------------------------------------------|-------|\\n| 3.2.7 休 眠 模 式                                                       | 4 2   |\\n| 4. 上 路 騎 乘                                                          | 4 3   |\\n| 4.1 預 估 剩 餘 電 量 可 ⾏ 駛 ⾥ 程                                    | 4 3   |\\n| 4.2 取 ⾞ 及 架 ⾞                                                      | 4 4   |\\n| 4.3 啟 動 及 關 閉 ⾺ 達                                                | 4 5   |\\n| 4.3.1 雙 重 防 盜 鎖                                                    | 4 5   |\\n| 4.3.2 啟 動 ⾺ 達                                                       | 4 6   |\\n| 4.3.2.1 標 準 啟 動 程 序                                               | 4 6   |\\n| 4.3.2.2 快 速 啟 動 程 序 ( ⼀ 踢 即 ⾏ )                             | 4 6   |\\n| 4.3.3 關 閉 ⾺ 達                                                       | 4 7   |\\n| 4.3.3.1 標 準 關 閉 程 序                                               | 4 7   |\\n| 4.3.4 傾 倒 斷 電 保 護                                                 | 4 8   |\\n| 4.4 前 進 及 後 退                                                      | 4 9   |\\n| 4.4.1 電 ⼦ 油 ⾨                                                       | 4 9   |\\n| 4.4.2 電 ⼦ 倒 ⾞ 油 ⾨                                                 | 4 9   |\\n| 4.4.3 ⽅ 向 燈 ⾃ 動 關 閉 功 能                                        | 5 0   |\\n| 4.5 減 速 及 停 ⽌                                                      | 5 1   |\\n| 4.5.1 S B S 同 步 煞 ⾞ 系 統                                           | 5 1   |\\n| 4.5.2 A B S 防 鎖 死 煞 ⾞ 系 統                                        | 5 1   |\\n| 4.5.3 緊 急 煞 ⾞ 警 ⽰ 系 統 ( E S S )                               | 5 2   |\\n| 4.5.4 電 能 回 充                                                       | 5 2   |\\n| 4.6 動 ⼒ 模 式                                                         | 5 3   |\\n| 4.6.1 競 速 模 式                                                       | 5 3   |\\n| 4.6.2 智 慧 模 式                                                       | 5 3   |\\n| 4.6.3 低 電 量 模 式                                                    | 5 4   |\\n| 4.6.4 ⾼ / 低 溫 保 護 模 式                                            | 5 5   |\\n| 4.6.5 ⾺ 達 堵 轉 保 護                                                 | 5 6   |\\n| 4.7 進 階 功 能                                                         | 5 7   |\\n| 4.7.1 AVA S 低 速 警 告 ⾳                                              | 5 7   |\\n| 4.7.2 安 全 提 ⽰ 功 能                                                 | 5 7   |\\n| 4.7.3 T P M S 胎 內 式 胎 壓 偵 測 器                                   | 5 8   |\\n| 4.7.3.1 設 定 胎 壓 警 ⽰ 值                                            | 5 8   |\\n| 4.7.3.2 於 儀 表 板 讀 取 胎 壓 數 值                                   | 5 9   |\\n| 4.7.3.3 於 G o g o r o ® A p p 讀 取 胎 壓 數 值                        | 6 0   |\\n| 4.7.3.4 儀 表 板 警 ⽰ 訊 息                                            | 6 0   |\\n| 4.7.3.4 G o g o r o ® A p p 警 ⽰ 訊 息                                 | 6 1   |\\n| 4.7.4 性 能 提 升 服 務 ⽅ 案                                           | 6 3   |\\n| 4.7.5 賽 道 碼 錶 模 式                                                 | 6 4   |\\n| 5. 補 充 電 ⼒                                                          | 6 5   |\\n| 5.1 在 G o S t a tio n ® 電 池 交 換 站 交 換 電 池                     | 6 5   |\\n| 5.1.1 ⽤ G o g o r o ® A p p 尋 找 站 點                                | 6 5   |\\n| 5.1.2 ⽤ G o S t a tio n ® 電 池 交 換 站 的 螢 幕 尋 找 其 他 站 點    | 6 6   |\\n| 5.1.3 交 換 電 池                                                       | 6 7   |\\n| 5.1.4 ⾝ ⼼ 障 礙 電 池 交 換 服 務                                     | 6 9   |\\n| 5.2 對 G o g o r o N e t w o r k ® 智 慧 電 池 充 電                    | 7 0   |\\n| 6. 使 ⽤ G o g o r o ® A p p                                            | 7 1   |\\n| 6.1 下 載 及 安 裝 G o g o r o ® A p p                                  | 7 1   |\\n| 6.2 將 ⼿ 機 與 S m a r t s c o o t e r ® 智 慧 電 動 機 ⾞ 配 對 連 線 | 7 2   |\\n| 6.3 G o g o r o ® A p p 畫 ⾯ 簡 介                                     | 7 3   |\\n| 7. 保 養 維 護                                                          | 7 5   |  \\n| 7.1 日常清潔與維護              | 75   |\\n|---------------------------------|------|\\n| 7.2 VIVA 系列定期檢查與保養週期 | 76   |\\n| 8. 其他依法令應聲明事項         | 77   |\\n| 8.1 NCC 國家通訊傳播委員會      | 77   |\\n| 8.2 行政院環保署                | 7    |\\n| 8.3 經濟部能源局                | 78   |  \\n4', metadata={'#': 'Gogoro Viva', '##': '目錄'}),\n",
       "  Document(page_content='## 1. 在您上路之前\\n###### 5  \\n歡迎加入 Gogoro ⾞主的⾏列!我們將帶領您正確與安全地使⽤ Smartscooter® 智慧電動機⾞\\n的每個功能。為了確保您的⾏⾞安全,騎乘前請務必詳細閱讀本⼿冊,並確認⾃⼰隨時符合下 列要件:\\n- 持有政府所核發且仍有效的本⾞種駕駛執照。  \\n- 具備安全及正確的騎乘技巧及⽣理及⼼理狀況。  \\n- 完全了解 Smartscooter® 智慧電動機⾞的操作⽅法及應變措施。  \\n- 完全了解本⼿冊的各項資訊,包括但不限於相關說明、注意事項及警告資訊等。  \\n任何操作與保養的問題,請洽 Gogoro 客服中⼼(0800-365-996)。祝您擁有安全愉快的騎 乘體驗!', metadata={'#': 'Gogoro Viva', '##': '1. 在您上路之前'}),\n",
       "  Document(page_content='### 1.1 如何使⽤本⼿冊\\n###### 5  \\n本⼿冊以下列圖⽰來表⽰特別重要的資訊:\\n警告:表⽰需特別注意,否則可能導致⼈⾝傷害或機件損壞。  \\n注意:表⽰使⽤時需加留意之處。  \\nGogoro 服務中⼼設定功能:表⽰必須由 Gogoro 服務中⼼之技術⼈員或 Gogoro 所指定之⼈\\n員調整或啟閉的功能。 請參閱本⼿冊其他章節。  \\n5', metadata={'#': 'Gogoro Viva', '##': '1. 在您上路之前', '###': '1.1 如何使⽤本⼿冊'}),\n",
       "  Document(page_content='### 1.2 安全提醒\\n###### 6  \\n具備優越性能的 Smartscooter® 智慧電動機⾞,更需要正確的騎乘與操控。為確保⾃⾝與他\\n⼈的安全,請務必遵⾏下列事宜:  \\n若您服⽤可能影響騎乘能⼒之藥物、飲酒,或⾝⼼狀態不佳時,請勿騎乘上路。  \\n請遵守交通法規及交通號誌,隨時確認週遭路況及⾞況,以主動迴避危險。  \\n務必配戴合乎法規之安全裝備,例如安全帽,必要時穿戴適當防護衣物,如⼿套及靴⼦。  \\n每次上路前進⾏基本檢測,確認燈光、煞⾞、胎紋、胎壓及各部位有無鬆動異⾳等,並定期回 Gogoro 服務中⼼進⾏保養。  \\n進⾏⽇常檢查與維護時,務必確認⾺達為關閉狀態。  \\n潮溼的平交道鐵軌、橋樑伸縮縫、⼈孔蓋、⽔溝蓋,及路⾯上的各種標線、標誌,會變得非常 滑溜,因此在通過這些區域時,請減速慢⾏,並保持⾞⾝直立⼩⼼通過。  \\n要在濕滑路⾯上減速或停⽌時,請緩慢漸進地操作煞⾞,勿突然重煞以免輪胎鎖死。  \\n由於 Smartscooter® 智慧電動機⾞的扭⼒較傳統機⾞強⼤,故在雨天及濕滑路⾯⾏駛時,建 議您啟動智慧模式,起步時輕轉油⾨以免因扭⼒過⼤導致後輪打滑。  \\n在非常濕滑的路⾯,請避免將電能回充強度調到最⼤,以免制動⼒道過強,使後輪產⽣打滑。', metadata={'#': 'Gogoro Viva', '##': '1. 在您上路之前', '###': '1.2 安全提醒'})])"
      ]
     },
     "execution_count": 363,
     "metadata": {},
     "output_type": "execute_result"
    }
   ],
   "source": [
    "# MD splits\n",
    "markdown_splitter = MarkdownHeaderTextSplitter(\n",
    "    headers_to_split_on=headers_to_split_on, \n",
    "    strip_headers=False\n",
    ")\n",
    "md_header_splits = markdown_splitter.split_text(markdown_document)\n",
    "\n",
    "len(md_header_splits), md_header_splits[:5]"
   ]
  },
  {
   "cell_type": "code",
   "execution_count": 364,
   "metadata": {},
   "outputs": [
    {
     "data": {
      "text/plain": [
       "('![13_image_0.png](13_image_0.png)  \\n- 除了隨⾞標配的 iQ System® 智慧鑰匙卡,您尚可⾃費加購 Gogoro Smart Coin,讓感 應鑰匙成為時尚配件,隨⾝輕鬆配戴。獨特感應扣 Smart Coin,僅有硬幣⼤⼩,還能 與專屬矽膠⼿環或掛環搭配,完美融入各種⽇常情境,降低感應鑰匙遺留於⾞廂內的 風險。  \\n- 使⽤⽅式及注意事項與 iQ System® 智慧鑰匙卡相同。',\n",
       " 14)"
      ]
     },
     "execution_count": 364,
     "metadata": {},
     "output_type": "execute_result"
    }
   ],
   "source": [
    "import re\n",
    "\n",
    "def extract_page_metadata(text):\n",
    "    page_metadata = None\n",
    "    cleaned_lines = []\n",
    "    page_pattern = re.compile(r'^###### (\\d+)')\n",
    "    header_pattern = re.compile(r'^(#{1,5}) ')\n",
    "    # header_pattern = re.compile(r'^# ')\n",
    "\n",
    "    for line in text.split('\\n'):\n",
    "        match = page_pattern.match(line)\n",
    "        if match:\n",
    "            page_metadata = int(match.group(1))\n",
    "        elif not header_pattern.match(line):\n",
    "            cleaned_lines.append(line)\n",
    "\n",
    "    cleaned_text = '\\n'.join(cleaned_lines)\n",
    "    return cleaned_text, page_metadata\n",
    "\n",
    "_content, _page_metadata = extract_page_metadata(md_header_splits[12].page_content)\n",
    "_content, _page_metadata"
   ]
  },
  {
   "cell_type": "code",
   "execution_count": 365,
   "metadata": {},
   "outputs": [
    {
     "data": {
      "text/plain": [
       "{'#': 'Gogoro Viva',\n",
       " '##': '1. 在您上路之前',\n",
       " '###': '1.3 Gogoro Smartscooter® 簡介',\n",
       " '####': '1.3.2 開關機鑰匙',\n",
       " '#####': '1.3.2.4 Gogoro Smart Coin'}"
      ]
     },
     "execution_count": 365,
     "metadata": {},
     "output_type": "execute_result"
    }
   ],
   "source": [
    "md_header_splits[12].metadata"
   ]
  },
  {
   "cell_type": "code",
   "execution_count": 366,
   "metadata": {},
   "outputs": [
    {
     "data": {
      "text/plain": [
       "(100,\n",
       " [Document(page_content='發佈⽇期:2022.02.16 適⽤⾞款:\\nVIVA Lite VIVA VIVA Plus VIVA BASIC VIVA KEYLESS\\niQ System® 版本:6.5 Gogoro® App 版本:2.19 以後 製造商:睿能創意股份有限公司 地址:桃園市⿔⼭區頂湖路 33 號 電話:03-273-0900 客服中⼼電話:0800-365-996 Copyright© 2021 睿能創意股份有限公司 著作權所有,並保留⼀切權利。本⾞主⼿冊中任何部分未經睿能創意股份有限公司事 前書⾯同意,不得以任何形式轉載、複製或拷⾙。', metadata={'#': 'Gogoro Viva'}),\n",
       "  Document(page_content='| ⽬  |  |\\n|----------------------------------------------------------------------|-----|\\n| 錄  |  |\\n| 1. 在 您 上 路 之 前  | 5  |\\n| 1.1 如 何 使 ⽤ 本 ⼿ 冊  | 5  |\\n| 1.2 安 全 提 醒  | 5  |\\n| 1.2.1 每 次 騎 乘 前 應 檢 查 項 ⽬  | 6  |\\n| 1.3 G o g o r o S m a r t s c o o t e r ® 簡 介  | 8  |\\n| 1.3.1 操 作 流 程 概 述  | 8  |\\n| 1.3.2 開 關 機 鑰 匙  | 9  |\\n| 1.3.2.1 機 械 式 鑰 匙  | 1 0 |\\n| 1.3.2.2 iQ S y s t e m ® 無 線 智 慧 鑰 匙  | 1 1 |\\n| 1.3.2.3 iQ S y s t e m ® 智 慧 鑰 匙 卡  | 1 2 |\\n| 1.3.2.4 G o g o r o S m a r t C oin  | 1 4 |\\n| 1.3.2.5 以 ⼿ 機 作 為 鑰 匙  | 1 5 |\\n| 1.3.3 啟 動 及 關 閉 ⾺ 達  | 1 6 |\\n| 1.3.3.1 啟 動 ⾺ 達  | 1 6 |\\n| 1.3.3.2 關 閉 ⾺ 達  | 1 6 |\\n| 1.4 G o g o r o N e t w o r k ® 智 慧 電 池 簡 介  | 1 7 |\\n| 1.5 G o S t a tio n ® 電 池 交 換 站 簡 介  | 1 9 |\\n| 1.6 G o g o r o ® A p p 簡 介  | 2 0 |\\n| 1.7 iQ S y s t e m ® 簡 介  | 2 1 |\\n| 2. 認 識 您 的 S m a r t s c o o t e r ® 智 慧 電 動 機 ⾞  | 2 2 |\\n| 2.1 VIVA 系 列 各 部 位 名 稱  | 2 2 |\\n| 2.2 左 把 ⼿ 按 鍵  | 2 5 |\\n| 2.3 儀 表 板  | 2 7 |\\n| 3. 準 備 上 路  | 2 9 |\\n| 3.1 機 械 式 鑰 匙 ⾞ 種  | 2 9 |\\n| 3.1.1 開 啟 系 統 電 源 並 解 鎖 龍 頭  | 2 9 |\\n| 3.1.2 關 閉 系 統 電 源 並 上 鎖 龍 頭  | 2 9 |\\n| 3.1.3 雙 重 防 盜 鎖  | 3 0 |\\n| 3.1.4 開 啟 座 墊 下 置 物 箱  | 3 1 |\\n| 3.1.5 休 眠 模 式  | 3 2 |\\n| 3.2 無 線 鑰 匙 ⾞ 種  | 3 3 |\\n| 3.2.1 iQ S y s t e m ® 無 線 智 慧 鑰 匙  | 3 4 |\\n| 3.2.1.1 開 啟 系 統 電 源 並 解 鎖 龍 頭  | 3 4 |\\n| 3.2.1.2 關 閉 系 統 電 源 及 上 鎖 龍 頭  | 3 4 |\\n| 3.2.1.3 開 啟 座 墊 下 置 物 箱  | 3 4 |\\n| 3.2.2 iQ S y s t e m ® 智 慧 鑰 匙 卡  | 3 5 |\\n| 3.2.2.1 iQ S y s t e m ® 智 慧 鑰 匙 卡 感 應 器 位 置  | 3 6 |\\n| 3.2.2.2 開 啟 系 統 電 源 並 解 鎖 龍 頭  | 3 7 |\\n| 3.2.2.3 關 閉 系 統 電 源 及 上 鎖 龍 頭  | 3 7 |\\n| 3.2.2.4 開 啟 座 墊 下 置 物 箱  | 3 7 |\\n| 3.2.2.5 G o g o r o S m a r t C oin  | 3 7 |\\n| 3.2.3 ⼿ 機 做 為 遙 控 器 時  | 3 8 |\\n| 3.2.3.1 開 啟 系 統 電 源 並 解 鎖 龍 頭  | 3 8 |\\n| 3.2.3.2 關 閉 系 統 電 源 及 上 鎖 龍 頭  | 3 8 |\\n| 3.2.3.3 雙 重 防 盜 鎖  | 3 8 |\\n| 3.2.3.4 開 啟 座 墊 下 置 物 箱  | 3 9 |\\n| 3.2.4 ⼿ 機 做 為 免 鑰 匙 智 慧 感 應 器 時 ( 智 慧 感 應 解 鎖 ) | 4 0 |\\n| 3.2.4.1 開 啟 系 統 電 源 並 解 鎖 龍 頭  | 4 0 |\\n| 3.2.4.2 關 閉 系 統 電 源  | 4 0 |\\n| 3.2.5 倒 數 計 時 ⾃ 動 上 鎖  | 4 1 |  | 3.2.6 快 速 關 機 組 合 鍵  | 4 1  |\\n|-------------------------------------------------------------------------|-------|\\n| 3.2.7 休 眠 模 式  | 4 2  |\\n| 4. 上 路 騎 乘  | 4 3  |\\n| 4.1 預 估 剩 餘 電 量 可 ⾏ 駛 ⾥ 程  | 4 3  |\\n| 4.2 取 ⾞ 及 架 ⾞  | 4 4  |\\n| 4.3 啟 動 及 關 閉 ⾺ 達  | 4 5  |\\n| 4.3.1 雙 重 防 盜 鎖  | 4 5  |\\n| 4.3.2 啟 動 ⾺ 達  | 4 6  |\\n| 4.3.2.1 標 準 啟 動 程 序  | 4 6  |\\n| 4.3.2.2 快 速 啟 動 程 序 ( ⼀ 踢 即 ⾏ )  | 4 6  |\\n| 4.3.3 關 閉 ⾺ 達  | 4 7  |\\n| 4.3.3.1 標 準 關 閉 程 序  | 4 7  |\\n| 4.3.4 傾 倒 斷 電 保 護  | 4 8  |\\n| 4.4 前 進 及 後 退  | 4 9  |\\n| 4.4.1 電 ⼦ 油 ⾨  | 4 9  |\\n| 4.4.2 電 ⼦ 倒 ⾞ 油 ⾨  | 4 9  |\\n| 4.4.3 ⽅ 向 燈 ⾃ 動 關 閉 功 能  | 5 0  |\\n| 4.5 減 速 及 停 ⽌  | 5 1  |\\n| 4.5.1 S B S 同 步 煞 ⾞ 系 統  | 5 1  |\\n| 4.5.2 A B S 防 鎖 死 煞 ⾞ 系 統  | 5 1  |\\n| 4.5.3 緊 急 煞 ⾞ 警 ⽰ 系 統 ( E S S )  | 5 2  |\\n| 4.5.4 電 能 回 充  | 5 2  |\\n| 4.6 動 ⼒ 模 式  | 5 3  |\\n| 4.6.1 競 速 模 式  | 5 3  |\\n| 4.6.2 智 慧 模 式  | 5 3  |\\n| 4.6.3 低 電 量 模 式  | 5 4  |\\n| 4.6.4 ⾼ / 低 溫 保 護 模 式  | 5 5  |\\n| 4.6.5 ⾺ 達 堵 轉 保 護  | 5 6  |\\n| 4.7 進 階 功 能  | 5 7  |\\n| 4.7.1 AVA S 低 速 警 告 ⾳  | 5 7  |\\n| 4.7.2 安 全 提 ⽰ 功 能  | 5 7  |\\n| 4.7.3 T P M S 胎 內 式 胎 壓 偵 測 器  | 5 8  |\\n| 4.7.3.1 設 定 胎 壓 警 ⽰ 值  | 5 8  |\\n| 4.7.3.2 於 儀 表 板 讀 取 胎 壓 數 值  | 5 9  |\\n| 4.7.3.3 於 G o g o r o ® A p p 讀 取 胎 壓 數 值  | 6 0  |\\n| 4.7.3.4 儀 表 板 警 ⽰ 訊 息  | 6 0  |\\n| 4.7.3.4 G o g o r o ® A p p 警 ⽰ 訊 息  | 6 1  |\\n| 4.7.4 性 能 提 升 服 務 ⽅ 案  | 6 3  |\\n| 4.7.5 賽 道 碼 錶 模 式  | 6 4  |\\n| 5. 補 充 電 ⼒  | 6 5  |\\n| 5.1 在 G o S t a tio n ® 電 池 交 換 站 交 換 電 池  | 6 5  |\\n| 5.1.1 ⽤ G o g o r o ® A p p 尋 找 站 點  | 6 5  |\\n| 5.1.2 ⽤ G o S t a tio n ® 電 池 交 換 站 的 螢 幕 尋 找 其 他 站 點  | 6 6  |\\n| 5.1.3 交 換 電 池  | 6 7  |\\n| 5.1.4 ⾝ ⼼ 障 礙 電 池 交 換 服 務  | 6 9  |\\n| 5.2 對 G o g o r o N e t w o r k ® 智 慧 電 池 充 電  | 7 0  |\\n| 6. 使 ⽤ G o g o r o ® A p p  | 7 1  |\\n| 6.1 下 載 及 安 裝 G o g o r o ® A p p  | 7 1  |\\n| 6.2 將 ⼿ 機 與 S m a r t s c o o t e r ® 智 慧 電 動 機 ⾞ 配 對 連 線 | 7 2  |\\n| 6.3 G o g o r o ® A p p 畫 ⾯ 簡 介  | 7 3  |\\n| 7. 保 養 維 護  | 7 5  |  | 7.1 日常清潔與維護  | 75  |\\n|---------------------------------|------|\\n| 7.2 VIVA 系列定期檢查與保養週期 | 76  |\\n| 8. 其他依法令應聲明事項  | 77  |\\n| 8.1 NCC 國家通訊傳播委員會  | 77  |\\n| 8.2 行政院環保署  | 7  |\\n| 8.3 經濟部能源局  | 78  |  4', metadata={'#': 'Gogoro Viva', '##': '目錄'}),\n",
       "  Document(page_content='歡迎加入 Gogoro ⾞主的⾏列!我們將帶領您正確與安全地使⽤ Smartscooter® 智慧電動機⾞\\n的每個功能。為了確保您的⾏⾞安全,騎乘前請務必詳細閱讀本⼿冊,並確認⾃⼰隨時符合下 列要件:\\n- 持有政府所核發且仍有效的本⾞種駕駛執照。  - 具備安全及正確的騎乘技巧及⽣理及⼼理狀況。  - 完全了解 Smartscooter® 智慧電動機⾞的操作⽅法及應變措施。  - 完全了解本⼿冊的各項資訊,包括但不限於相關說明、注意事項及警告資訊等。  任何操作與保養的問題,請洽 Gogoro 客服中⼼(0800-365-996)。祝您擁有安全愉快的騎 乘體驗!', metadata={'#': 'Gogoro Viva', '##': '1. 在您上路之前', 'page': 5}),\n",
       "  Document(page_content='本⼿冊以下列圖⽰來表⽰特別重要的資訊:\\n警告:表⽰需特別注意,否則可能導致⼈⾝傷害或機件損壞。  注意:表⽰使⽤時需加留意之處。  Gogoro 服務中⼼設定功能:表⽰必須由 Gogoro 服務中⼼之技術⼈員或 Gogoro 所指定之⼈\\n員調整或啟閉的功能。 請參閱本⼿冊其他章節。  5', metadata={'#': 'Gogoro Viva', '##': '1. 在您上路之前', '###': '1.1 如何使⽤本⼿冊', 'page': 5}),\n",
       "  Document(page_content='具備優越性能的 Smartscooter® 智慧電動機⾞,更需要正確的騎乘與操控。為確保⾃⾝與他\\n⼈的安全,請務必遵⾏下列事宜:  若您服⽤可能影響騎乘能⼒之藥物、飲酒,或⾝⼼狀態不佳時,請勿騎乘上路。  請遵守交通法規及交通號誌,隨時確認週遭路況及⾞況,以主動迴避危險。  務必配戴合乎法規之安全裝備,例如安全帽,必要時穿戴適當防護衣物,如⼿套及靴⼦。  每次上路前進⾏基本檢測,確認燈光、煞⾞、胎紋、胎壓及各部位有無鬆動異⾳等,並定期回 Gogoro 服務中⼼進⾏保養。  進⾏⽇常檢查與維護時,務必確認⾺達為關閉狀態。  潮溼的平交道鐵軌、橋樑伸縮縫、⼈孔蓋、⽔溝蓋,及路⾯上的各種標線、標誌,會變得非常 滑溜,因此在通過這些區域時,請減速慢⾏,並保持⾞⾝直立⼩⼼通過。  要在濕滑路⾯上減速或停⽌時,請緩慢漸進地操作煞⾞,勿突然重煞以免輪胎鎖死。  由於 Smartscooter® 智慧電動機⾞的扭⼒較傳統機⾞強⼤,故在雨天及濕滑路⾯⾏駛時,建 議您啟動智慧模式,起步時輕轉油⾨以免因扭⼒過⼤導致後輪打滑。  在非常濕滑的路⾯,請避免將電能回充強度調到最⼤,以免制動⼒道過強,使後輪產⽣打滑。', metadata={'#': 'Gogoro Viva', '##': '1. 在您上路之前', '###': '1.2 安全提醒', 'page': 6})])"
      ]
     },
     "execution_count": 366,
     "metadata": {},
     "output_type": "execute_result"
    }
   ],
   "source": [
    "from langchain.schema import Document\n",
    "\n",
    "def clean_context(text):\n",
    "    text = re.sub(r'\\s{2,}', '  ', text)  # Replace multiple spaces with two spaces\n",
    "    text = text.replace(\"**\", \"\")  # Remove double asterisks\n",
    "    return text\n",
    "\n",
    "# Function to replace image paths in the content\n",
    "def replace_image_paths(text):\n",
    "    new_text = re.sub(r'!\\[(.*?)\\]\\((.*?)\\)', rf'![\\1](app/static/{car_model}/\\2)', text)\n",
    "    return new_text\n",
    "\n",
    "processed_splits = []\n",
    "for doc in md_header_splits:\n",
    "    content, page_metadata = extract_page_metadata(doc.page_content)\n",
    "\n",
    "    content = replace_image_paths(content)\n",
    "\n",
    "    cleaned_content = clean_context(content)\n",
    "\n",
    "    new_metadata = doc.metadata.copy()\n",
    "    header = \"\\n\".join(doc.metadata)\n",
    "    # new_metadata['car_model'] = car_model\n",
    "    if page_metadata:\n",
    "        new_metadata['page'] = page_metadata\n",
    "\n",
    "    processed_splits.append(Document(page_content=cleaned_content, metadata=new_metadata))\n",
    "len(processed_splits), processed_splits[:5]"
   ]
  },
  {
   "cell_type": "code",
   "execution_count": 367,
   "metadata": {},
   "outputs": [
    {
     "data": {
      "text/plain": [
       "(207,\n",
       " [Document(page_content='發佈⽇期:2022.02.16 適⽤⾞款:\\nVIVA Lite VIVA VIVA Plus VIVA BASIC VIVA KEYLESS\\niQ System® 版本:6.5 Gogoro® App 版本:2.19 以後 製造商:睿能創意股份有限公司 地址:桃園市⿔⼭區頂湖路 33 號 電話:03-273-0900 客服中⼼電話:0800-365-996 Copyright© 2021 睿能創意股份有限公司 著作權所有,並保留⼀切權利。本⾞主⼿冊中任何部分未經睿能創意股份有限公司事 前書⾯同意,不得以任何形式轉載、複製或拷⾙。', metadata={'#': 'Gogoro Viva'}),\n",
       "  Document(page_content='| ⽬  |  |\\n|----------------------------------------------------------------------|-----|\\n| 錄  |  |\\n| 1. 在 您 上 路 之 前  | 5  |\\n| 1.1 如 何 使 ⽤ 本 ⼿ 冊  | 5  |\\n| 1.2 安 全 提 醒  | 5  |\\n| 1.2.1 每 次 騎 乘 前 應 檢 查 項 ⽬  | 6  |\\n| 1.3 G o g o r o S m a r t s c o o t e r ® 簡 介  | 8  |\\n| 1.3.1 操 作 流 程 概 述  | 8  |\\n| 1.3.2 開 關 機 鑰 匙  | 9  |\\n| 1.3.2.1 機 械 式 鑰 匙  | 1 0 |\\n| 1.3.2.2 iQ S y s t e m ® 無 線 智 慧 鑰 匙  | 1 1 |\\n| 1.3.2.3 iQ S y s t e m ® 智 慧 鑰 匙 卡  | 1 2 |\\n| 1.3.2.4 G o g o r o S m a r t C oin  | 1 4 |', metadata={'#': 'Gogoro Viva', '##': '目錄'}),\n",
       "  Document(page_content='| 1.3.2.3 iQ S y s t e m ® 智 慧 鑰 匙 卡  | 1 2 |\\n| 1.3.2.4 G o g o r o S m a r t C oin  | 1 4 |\\n| 1.3.2.5 以 ⼿ 機 作 為 鑰 匙  | 1 5 |\\n| 1.3.3 啟 動 及 關 閉 ⾺ 達  | 1 6 |\\n| 1.3.3.1 啟 動 ⾺ 達  | 1 6 |\\n| 1.3.3.2 關 閉 ⾺ 達  | 1 6 |\\n| 1.4 G o g o r o N e t w o r k ® 智 慧 電 池 簡 介  | 1 7 |\\n| 1.5 G o S t a tio n ® 電 池 交 換 站 簡 介  | 1 9 |\\n| 1.6 G o g o r o ® A p p 簡 介  | 2 0 |\\n| 1.7 iQ S y s t e m ® 簡 介  | 2 1 |\\n| 2. 認 識 您 的 S m a r t s c o o t e r ® 智 慧 電 動 機 ⾞  | 2 2 |\\n| 2.1 VIVA 系 列 各 部 位 名 稱  | 2 2 |', metadata={'#': 'Gogoro Viva', '##': '目錄'}),\n",
       "  Document(page_content='| 2. 認 識 您 的 S m a r t s c o o t e r ® 智 慧 電 動 機 ⾞  | 2 2 |\\n| 2.1 VIVA 系 列 各 部 位 名 稱  | 2 2 |\\n| 2.2 左 把 ⼿ 按 鍵  | 2 5 |\\n| 2.3 儀 表 板  | 2 7 |\\n| 3. 準 備 上 路  | 2 9 |\\n| 3.1 機 械 式 鑰 匙 ⾞ 種  | 2 9 |\\n| 3.1.1 開 啟 系 統 電 源 並 解 鎖 龍 頭  | 2 9 |\\n| 3.1.2 關 閉 系 統 電 源 並 上 鎖 龍 頭  | 2 9 |\\n| 3.1.3 雙 重 防 盜 鎖  | 3 0 |\\n| 3.1.4 開 啟 座 墊 下 置 物 箱  | 3 1 |\\n| 3.1.5 休 眠 模 式  | 3 2 |\\n| 3.2 無 線 鑰 匙 ⾞ 種  | 3 3 |\\n| 3.2.1 iQ S y s t e m ® 無 線 智 慧 鑰 匙  | 3 4 |\\n| 3.2.1.1 開 啟 系 統 電 源 並 解 鎖 龍 頭  | 3 4 |', metadata={'#': 'Gogoro Viva', '##': '目錄'}),\n",
       "  Document(page_content='| 3.2.1 iQ S y s t e m ® 無 線 智 慧 鑰 匙  | 3 4 |\\n| 3.2.1.1 開 啟 系 統 電 源 並 解 鎖 龍 頭  | 3 4 |\\n| 3.2.1.2 關 閉 系 統 電 源 及 上 鎖 龍 頭  | 3 4 |\\n| 3.2.1.3 開 啟 座 墊 下 置 物 箱  | 3 4 |\\n| 3.2.2 iQ S y s t e m ® 智 慧 鑰 匙 卡  | 3 5 |\\n| 3.2.2.1 iQ S y s t e m ® 智 慧 鑰 匙 卡 感 應 器 位 置  | 3 6 |\\n| 3.2.2.2 開 啟 系 統 電 源 並 解 鎖 龍 頭  | 3 7 |\\n| 3.2.2.3 關 閉 系 統 電 源 及 上 鎖 龍 頭  | 3 7 |\\n| 3.2.2.4 開 啟 座 墊 下 置 物 箱  | 3 7 |\\n| 3.2.2.5 G o g o r o S m a r t C oin  | 3 7 |\\n| 3.2.3 ⼿ 機 做 為 遙 控 器 時  | 3 8 |', metadata={'#': 'Gogoro Viva', '##': '目錄'})])"
      ]
     },
     "execution_count": 367,
     "metadata": {},
     "output_type": "execute_result"
    }
   ],
   "source": [
    "from langchain_text_splitters import RecursiveCharacterTextSplitter\n",
    "\n",
    "chunk_size = 500\n",
    "chunk_overlap = 100\n",
    "text_splitter = RecursiveCharacterTextSplitter(\n",
    "    chunk_size=chunk_size, chunk_overlap=chunk_overlap\n",
    ")\n",
    "\n",
    "splits = text_splitter.split_documents(processed_splits)\n",
    "len(splits), splits[:5]"
   ]
  },
  {
   "cell_type": "code",
   "execution_count": 368,
   "metadata": {},
   "outputs": [
    {
     "data": {
      "text/plain": [
       "500"
      ]
     },
     "execution_count": 368,
     "metadata": {},
     "output_type": "execute_result"
    }
   ],
   "source": [
    "max([len(split.page_content) for split in splits])"
   ]
  },
  {
   "cell_type": "code",
   "execution_count": 369,
   "metadata": {},
   "outputs": [
    {
     "data": {
      "text/plain": [
       "(207,\n",
       " [Document(page_content='發佈⽇期:2022.02.16 適⽤⾞款:\\nVIVA Lite VIVA VIVA Plus VIVA BASIC VIVA KEYLESS\\niQ System® 版本:6.5 Gogoro® App 版本:2.19 以後 製造商:睿能創意股份有限公司 地址:桃園市⿔⼭區頂湖路 33 號 電話:03-273-0900 客服中⼼電話:0800-365-996 Copyright© 2021 睿能創意股份有限公司 著作權所有,並保留⼀切權利。本⾞主⼿冊中任何部分未經睿能創意股份有限公司事 前書⾯同意,不得以任何形式轉載、複製或拷⾙。', metadata={'#': 'Gogoro Viva', 'car_model': 'VIVA'}),\n",
       "  Document(page_content='## 目錄\\n| ⽬  |  |\\n|----------------------------------------------------------------------|-----|\\n| 錄  |  |\\n| 1. 在 您 上 路 之 前  | 5  |\\n| 1.1 如 何 使 ⽤ 本 ⼿ 冊  | 5  |\\n| 1.2 安 全 提 醒  | 5  |\\n| 1.2.1 每 次 騎 乘 前 應 檢 查 項 ⽬  | 6  |\\n| 1.3 G o g o r o S m a r t s c o o t e r ® 簡 介  | 8  |\\n| 1.3.1 操 作 流 程 概 述  | 8  |\\n| 1.3.2 開 關 機 鑰 匙  | 9  |\\n| 1.3.2.1 機 械 式 鑰 匙  | 1 0 |\\n| 1.3.2.2 iQ S y s t e m ® 無 線 智 慧 鑰 匙  | 1 1 |\\n| 1.3.2.3 iQ S y s t e m ® 智 慧 鑰 匙 卡  | 1 2 |\\n| 1.3.2.4 G o g o r o S m a r t C oin  | 1 4 |', metadata={'#': 'Gogoro Viva', '##': '目錄', 'car_model': 'VIVA'}),\n",
       "  Document(page_content='## 目錄\\n| 1.3.2.3 iQ S y s t e m ® 智 慧 鑰 匙 卡  | 1 2 |\\n| 1.3.2.4 G o g o r o S m a r t C oin  | 1 4 |\\n| 1.3.2.5 以 ⼿ 機 作 為 鑰 匙  | 1 5 |\\n| 1.3.3 啟 動 及 關 閉 ⾺ 達  | 1 6 |\\n| 1.3.3.1 啟 動 ⾺ 達  | 1 6 |\\n| 1.3.3.2 關 閉 ⾺ 達  | 1 6 |\\n| 1.4 G o g o r o N e t w o r k ® 智 慧 電 池 簡 介  | 1 7 |\\n| 1.5 G o S t a tio n ® 電 池 交 換 站 簡 介  | 1 9 |\\n| 1.6 G o g o r o ® A p p 簡 介  | 2 0 |\\n| 1.7 iQ S y s t e m ® 簡 介  | 2 1 |\\n| 2. 認 識 您 的 S m a r t s c o o t e r ® 智 慧 電 動 機 ⾞  | 2 2 |\\n| 2.1 VIVA 系 列 各 部 位 名 稱  | 2 2 |', metadata={'#': 'Gogoro Viva', '##': '目錄', 'car_model': 'VIVA'}),\n",
       "  Document(page_content='## 目錄\\n| 2. 認 識 您 的 S m a r t s c o o t e r ® 智 慧 電 動 機 ⾞  | 2 2 |\\n| 2.1 VIVA 系 列 各 部 位 名 稱  | 2 2 |\\n| 2.2 左 把 ⼿ 按 鍵  | 2 5 |\\n| 2.3 儀 表 板  | 2 7 |\\n| 3. 準 備 上 路  | 2 9 |\\n| 3.1 機 械 式 鑰 匙 ⾞ 種  | 2 9 |\\n| 3.1.1 開 啟 系 統 電 源 並 解 鎖 龍 頭  | 2 9 |\\n| 3.1.2 關 閉 系 統 電 源 並 上 鎖 龍 頭  | 2 9 |\\n| 3.1.3 雙 重 防 盜 鎖  | 3 0 |\\n| 3.1.4 開 啟 座 墊 下 置 物 箱  | 3 1 |\\n| 3.1.5 休 眠 模 式  | 3 2 |\\n| 3.2 無 線 鑰 匙 ⾞ 種  | 3 3 |\\n| 3.2.1 iQ S y s t e m ® 無 線 智 慧 鑰 匙  | 3 4 |\\n| 3.2.1.1 開 啟 系 統 電 源 並 解 鎖 龍 頭  | 3 4 |', metadata={'#': 'Gogoro Viva', '##': '目錄', 'car_model': 'VIVA'}),\n",
       "  Document(page_content='## 目錄\\n| 3.2.1 iQ S y s t e m ® 無 線 智 慧 鑰 匙  | 3 4 |\\n| 3.2.1.1 開 啟 系 統 電 源 並 解 鎖 龍 頭  | 3 4 |\\n| 3.2.1.2 關 閉 系 統 電 源 及 上 鎖 龍 頭  | 3 4 |\\n| 3.2.1.3 開 啟 座 墊 下 置 物 箱  | 3 4 |\\n| 3.2.2 iQ S y s t e m ® 智 慧 鑰 匙 卡  | 3 5 |\\n| 3.2.2.1 iQ S y s t e m ® 智 慧 鑰 匙 卡 感 應 器 位 置  | 3 6 |\\n| 3.2.2.2 開 啟 系 統 電 源 並 解 鎖 龍 頭  | 3 7 |\\n| 3.2.2.3 關 閉 系 統 電 源 及 上 鎖 龍 頭  | 3 7 |\\n| 3.2.2.4 開 啟 座 墊 下 置 物 箱  | 3 7 |\\n| 3.2.2.5 G o g o r o S m a r t C oin  | 3 7 |\\n| 3.2.3 ⼿ 機 做 為 遙 控 器 時  | 3 8 |', metadata={'#': 'Gogoro Viva', '##': '目錄', 'car_model': 'VIVA'})])"
      ]
     },
     "execution_count": 369,
     "metadata": {},
     "output_type": "execute_result"
    }
   ],
   "source": [
    "c_splits = []\n",
    "for split in splits:\n",
    "    new_metadata = split.metadata.copy()\n",
    "    new_metadata[\"car_model\"] = car_model.upper()\n",
    "    new_content = ''\n",
    "    for key in sorted(split.metadata.keys()):\n",
    "        if key.startswith('#') and key != '#':\n",
    "            clear_header_metadata = split.metadata[key].replace(\"**\", \"\")\n",
    "            new_content += f\"{key} {clear_header_metadata}\\n\"\n",
    "    c_splits.append(Document(page_content=new_content + split.page_content, metadata=new_metadata))\n",
    "\n",
    "len(c_splits), c_splits[:5]"
   ]
  },
  {
   "cell_type": "code",
   "execution_count": 370,
   "metadata": {},
   "outputs": [
    {
     "data": {
      "text/plain": [
       "207"
      ]
     },
     "execution_count": 370,
     "metadata": {},
     "output_type": "execute_result"
    }
   ],
   "source": [
    "embeddings = NVIDIAEmbeddings(model=\"nvidia/nv-embed-v1\")\n",
    "db = FAISS.from_documents(c_splits, embeddings)\n",
    "db.index.ntotal"
   ]
  },
  {
   "cell_type": "code",
   "execution_count": 371,
   "metadata": {},
   "outputs": [
    {
     "data": {
      "text/plain": [
       "[Document(page_content='## 3. 準備上路\\n### 3.2 無線鑰匙⾞種\\n無線鑰匙⾞種可以使⽤包括 iQ System® 無線智慧鑰匙(圓形按鍵式)、 iQ System® 智慧鑰 匙卡(卡片式)以及 Gogoro® App 等非接觸式的開、關機⽅式。(依⾞種年式可能略有差 異)\\n每次關閉系統電源前,務必確認鑰匙、⼿機未放置於座墊下置物箱,以免意外把鑰匙、⼿機鎖 在裡⾯,導致無法再次開啟系統電源。  請隨時關閉座墊下置物箱,以免因長時間未關閉座墊,導致 Gogoro Network® 智慧電池無法 對備⽤電池充電,進⽽導致備⽤電池過度放電⽽損壞。  無線鑰匙⾞種,在「⾺達已啟動」狀態時,無法關閉系統電源。 請先將⾺達關閉,才能關閉系統電源。\\n無線鑰匙⾞種設有頭燈延遲熄滅功能,部分⾞種可使⽤ Gogoro® App 設定關閉系統電源後後 頭燈熄滅之時間長短。  每次騎乘前,請先轉動龍頭⾄最左邊再回正,確保龍頭鎖已經正確解鎖,龍頭可以⾃由轉向, 再開始騎乘。  無線鑰匙⾞種,系統預設在電源關閉時並不會鎖上龍頭。  若您想要每次關閉系統電源時都⾃動鎖上龍頭,可以在 Gogoro® App 中啟⽤「⾃動龍頭鎖」', metadata={'#': 'Gogoro Viva', '##': '3. 準備上路', '###': '3.2 無線鑰匙⾞種', 'page': 33, 'car_model': 'VIVA'}),\n",
       " Document(page_content='## 1. 在您上路之前\\n### 1.3 Gogoro Smartscooter® 簡介\\n#### 1.3.3 啟動及關閉⾺達\\n系統電源開啟後,必須先啟動⾺達,才能開始騎乘。⽽在結束騎乘後,也必須先關閉⾺達,才 能關閉系統電源並上鎖。( 參閱「4.3 啟動及關閉⾺達」)', metadata={'#': 'Gogoro Viva', '##': '1. 在您上路之前', '###': '1.3 Gogoro Smartscooter® 簡介', '####': '1.3.3 啟動及關閉⾺達', 'page': 16, 'car_model': 'VIVA'}),\n",
       " Document(page_content='## 3. 準備上路\\n### 3.2 無線鑰匙⾞種\\n#### 3.2.3 ⼿機做為遙控器時\\n##### 3.2.3.2 關閉系統電源及上鎖龍頭\\n- 在「系統電源已開啟」狀態,且⾺達關閉時,單次點擊⼿機 App、Widget ⼯具或 Apple Watch 畫⾯上的鎖頭圖⽰即可關閉系統電源。  - 若您要將龍頭上鎖,需先將龍頭向左打到底,再快速雙擊鎖頭圖⽰,才會關閉系統電 源並鎖上龍頭鎖。  - 若您有經常上鎖龍頭的需求,可以在 Gogoro® App 中設定「⾃動龍頭鎖」功能。(\\n參閱「6. 使⽤ Gogoro® App」)', metadata={'#': 'Gogoro Viva', '##': '3. 準備上路', '###': '3.2 無線鑰匙⾞種', '####': '3.2.3 ⼿機做為遙控器時', '#####': '3.2.3.2 關閉系統電源及上鎖龍頭', 'page': 38, 'car_model': 'VIVA'}),\n",
       " Document(page_content='## 4.3.1 雙重防盜鎖\\n#### 4.3.3 關閉⾺達\\n##### 4.3.3.1 標準關閉程序\\n「⾺達關閉狀態」。即使如此,⾏進間也請勿展開側腳架,以免發⽣無法預期的危險。  您可在 Gogoro® App 中打開「安全提⽰」功能。  當⾞輛靜⽌⼀段時間但⾺達尚未關閉時,每隔數秒會播放⼀段警⽰⾳效,提醒您關閉⾺達,以 避免誤觸電⼦油⾨,發⽣危險。 參閱「4.7.2 安全提⽰功能」。  機械式鑰匙⾞種,當電池電量很低時,若⾺達關閉後 3 分鐘內無任何操作,系統電源將⾃動 關閉。您需要將鑰匙轉⾄「OFF」,再轉回「ON」,才可重新開啟系統電源。  無線鑰匙⾞種,若⾺達關閉⼀段時間後內無任何操作,系統電源將⾃動關閉。(預設為 3 分 鐘,部分⾞種可在 Gogoro® App 的「⾃動上鎖」中設定時間長短)\\n部分⾞種展開中駐架時不會⾃動關閉⾺達,故使⽤中駐架停⾞時請別忘了檢查⾺達是否關閉。', metadata={'#': 'Gogoro Viva', '##': '4.3.1 雙重防盜鎖', '####': '4.3.3 關閉⾺達', '#####': '4.3.3.1 標準關閉程序', 'page': 47, 'car_model': 'VIVA'})]"
      ]
     },
     "execution_count": 371,
     "metadata": {},
     "output_type": "execute_result"
    }
   ],
   "source": [
    "query = \"如何開啟和關閉 Gogoro 電動機車的系統電源？\"\n",
    "retriever = db.as_retriever()\n",
    "docs = retriever.invoke(query)\n",
    "\n",
    "docs"
   ]
  },
  {
   "cell_type": "code",
   "execution_count": 372,
   "metadata": {},
   "outputs": [
    {
     "data": {
      "text/plain": [
       "[(Document(page_content='## 3. 準備上路\\n### 3.2 無線鑰匙⾞種\\n無線鑰匙⾞種可以使⽤包括 iQ System® 無線智慧鑰匙(圓形按鍵式)、 iQ System® 智慧鑰 匙卡(卡片式)以及 Gogoro® App 等非接觸式的開、關機⽅式。(依⾞種年式可能略有差 異)\\n每次關閉系統電源前,務必確認鑰匙、⼿機未放置於座墊下置物箱,以免意外把鑰匙、⼿機鎖 在裡⾯,導致無法再次開啟系統電源。  請隨時關閉座墊下置物箱,以免因長時間未關閉座墊,導致 Gogoro Network® 智慧電池無法 對備⽤電池充電,進⽽導致備⽤電池過度放電⽽損壞。  無線鑰匙⾞種,在「⾺達已啟動」狀態時,無法關閉系統電源。 請先將⾺達關閉,才能關閉系統電源。\\n無線鑰匙⾞種設有頭燈延遲熄滅功能,部分⾞種可使⽤ Gogoro® App 設定關閉系統電源後後 頭燈熄滅之時間長短。  每次騎乘前,請先轉動龍頭⾄最左邊再回正,確保龍頭鎖已經正確解鎖,龍頭可以⾃由轉向, 再開始騎乘。  無線鑰匙⾞種,系統預設在電源關閉時並不會鎖上龍頭。  若您想要每次關閉系統電源時都⾃動鎖上龍頭,可以在 Gogoro® App 中啟⽤「⾃動龍頭鎖」', metadata={'#': 'Gogoro Viva', '##': '3. 準備上路', '###': '3.2 無線鑰匙⾞種', 'page': 33, 'car_model': 'VIVA'}),\n",
       "  0.53079337),\n",
       " (Document(page_content='## 1. 在您上路之前\\n### 1.3 Gogoro Smartscooter® 簡介\\n#### 1.3.3 啟動及關閉⾺達\\n系統電源開啟後,必須先啟動⾺達,才能開始騎乘。⽽在結束騎乘後,也必須先關閉⾺達,才 能關閉系統電源並上鎖。( 參閱「4.3 啟動及關閉⾺達」)', metadata={'#': 'Gogoro Viva', '##': '1. 在您上路之前', '###': '1.3 Gogoro Smartscooter® 簡介', '####': '1.3.3 啟動及關閉⾺達', 'page': 16, 'car_model': 'VIVA'}),\n",
       "  0.5360478),\n",
       " (Document(page_content='## 3. 準備上路\\n### 3.2 無線鑰匙⾞種\\n#### 3.2.3 ⼿機做為遙控器時\\n##### 3.2.3.2 關閉系統電源及上鎖龍頭\\n- 在「系統電源已開啟」狀態,且⾺達關閉時,單次點擊⼿機 App、Widget ⼯具或 Apple Watch 畫⾯上的鎖頭圖⽰即可關閉系統電源。  - 若您要將龍頭上鎖,需先將龍頭向左打到底,再快速雙擊鎖頭圖⽰,才會關閉系統電 源並鎖上龍頭鎖。  - 若您有經常上鎖龍頭的需求,可以在 Gogoro® App 中設定「⾃動龍頭鎖」功能。(\\n參閱「6. 使⽤ Gogoro® App」)', metadata={'#': 'Gogoro Viva', '##': '3. 準備上路', '###': '3.2 無線鑰匙⾞種', '####': '3.2.3 ⼿機做為遙控器時', '#####': '3.2.3.2 關閉系統電源及上鎖龍頭', 'page': 38, 'car_model': 'VIVA'}),\n",
       "  0.5561261),\n",
       " (Document(page_content='## 4.3.1 雙重防盜鎖\\n#### 4.3.3 關閉⾺達\\n##### 4.3.3.1 標準關閉程序\\n「⾺達關閉狀態」。即使如此,⾏進間也請勿展開側腳架,以免發⽣無法預期的危險。  您可在 Gogoro® App 中打開「安全提⽰」功能。  當⾞輛靜⽌⼀段時間但⾺達尚未關閉時,每隔數秒會播放⼀段警⽰⾳效,提醒您關閉⾺達,以 避免誤觸電⼦油⾨,發⽣危險。 參閱「4.7.2 安全提⽰功能」。  機械式鑰匙⾞種,當電池電量很低時,若⾺達關閉後 3 分鐘內無任何操作,系統電源將⾃動 關閉。您需要將鑰匙轉⾄「OFF」,再轉回「ON」,才可重新開啟系統電源。  無線鑰匙⾞種,若⾺達關閉⼀段時間後內無任何操作,系統電源將⾃動關閉。(預設為 3 分 鐘,部分⾞種可在 Gogoro® App 的「⾃動上鎖」中設定時間長短)\\n部分⾞種展開中駐架時不會⾃動關閉⾺達,故使⽤中駐架停⾞時請別忘了檢查⾺達是否關閉。', metadata={'#': 'Gogoro Viva', '##': '4.3.1 雙重防盜鎖', '####': '4.3.3 關閉⾺達', '#####': '4.3.3.1 標準關閉程序', 'page': 47, 'car_model': 'VIVA'}),\n",
       "  0.574971)]"
      ]
     },
     "execution_count": 372,
     "metadata": {},
     "output_type": "execute_result"
    }
   ],
   "source": [
    "db.similarity_search_with_score(query, top_k=5)"
   ]
  },
  {
   "cell_type": "markdown",
   "metadata": {},
   "source": [
    "# Saving and Loading"
   ]
  },
  {
   "cell_type": "code",
   "execution_count": 373,
   "metadata": {},
   "outputs": [],
   "source": [
    "db.save_local(OUTPUT_DIR / car_model.upper())"
   ]
  },
  {
   "cell_type": "code",
   "execution_count": 17,
   "metadata": {},
   "outputs": [
    {
     "name": "stderr",
     "output_type": "stream",
     "text": [
      "c:\\Users\\BR\\AppData\\Local\\miniconda3\\envs\\NM\\lib\\site-packages\\langchain_nvidia_ai_endpoints\\_statics.py:361: UserWarning: Model nvolveqa_40k is deprecated. Using NV-Embed-QA instead.\n",
      "  warnings.warn(\n",
      "c:\\Users\\BR\\AppData\\Local\\miniconda3\\envs\\NM\\lib\\site-packages\\langchain_nvidia_ai_endpoints\\embeddings.py:87: UserWarning: Setting truncate=\"END\" for nvolveqa_40k backward compatibility\n",
      "  warnings.warn(\n"
     ]
    }
   ],
   "source": [
    "from typing import List, Union\n",
    "from tqdm import tqdm\n",
    "\n",
    "def index_docs(splitter, documents: List[str], dest_embed_dir) -> None:\n",
    "    \"\"\"\n",
    "    Split the document into chunks and create embeddings for the document\n",
    "\n",
    "    Args:\n",
    "        url: Source url for the document.\n",
    "        splitter: Splitter used to split the document\n",
    "        documents: list of documents whose embeddings needs to be created\n",
    "        dest_embed_dir: destination directory for embeddings\n",
    "\n",
    "    Returns:\n",
    "        None\n",
    "    \"\"\"\n",
    "    embeddings = NVIDIAEmbeddings(model=\"nvolveqa_40k\")\n",
    "    \n",
    "    for document in tqdm(documents):\n",
    "        texts = splitter.split_text(document.page_content)\n",
    "\n",
    "        # metadata to attach to document\n",
    "        metadatas = [document.metadata]\n",
    "\n",
    "        # create embeddings and add to vector store\n",
    "        if os.path.exists(dest_embed_dir):\n",
    "            update = FAISS.load_local(folder_path=dest_embed_dir, embeddings=embeddings, allow_dangerous_deserialization=True)\n",
    "            update.add_texts(texts, metadatas=metadatas)\n",
    "            update.save_local(folder_path=dest_embed_dir)\n",
    "        else:\n",
    "            docsearch = FAISS.from_texts(texts, embedding=embeddings, metadatas=metadatas, allow_dangerous_deserialization=True)\n",
    "            docsearch.save_local(folder_path=dest_embed_dir)\n",
    "\n",
    "index_docs(car_model, text_splitter, splits, OUTPUT_DIR)"
   ]
  },
  {
   "cell_type": "markdown",
   "metadata": {},
   "source": [
    "## Merge"
   ]
  },
  {
   "cell_type": "code",
   "execution_count": 11,
   "metadata": {},
   "outputs": [],
   "source": [
    "if os.path.exists(OUTPUT_DIR):\n",
    "    _db = FAISS.load_local(folder_path = OUTPUT_DIR, embeddings=embeddings, allow_dangerous_deserialization=True)\n",
    "    _db.merge_from(db)\n",
    "    _db.save_local(OUTPUT_DIR)\n",
    "else:\n",
    "    db.save_local(OUTPUT_DIR)"
   ]
  },
  {
   "cell_type": "code",
   "execution_count": 6,
   "metadata": {},
   "outputs": [
    {
     "data": {
      "text/plain": [
       "'./embedding_output'"
      ]
     },
     "execution_count": 6,
     "metadata": {},
     "output_type": "execute_result"
    }
   ],
   "source": [
    "OUTPUT_DIR"
   ]
  },
  {
   "cell_type": "code",
   "execution_count": null,
   "metadata": {},
   "outputs": [],
   "source": [
    "db = FAISS.from_documents(docs, embeddings)\n",
    "print(db.index.ntotal)"
   ]
  },
  {
   "cell_type": "code",
   "execution_count": 374,
   "metadata": {},
   "outputs": [],
   "source": [
    "import glob\n",
    "\n",
    "embeddings = NVIDIAEmbeddings(model=\"nvidia/nv-embed-v1\")\n",
    "folders = [folder for folder in glob.glob(\"embed_documents/*\") if folder != \"embed_documents/ALL\"]\n",
    "\n",
    "main_db = FAISS.load_local(folder_path=folders[0], embeddings=embeddings, allow_dangerous_deserialization=True)\n",
    "\n",
    "# 遍歷所有資料夾並合併索引\n",
    "for folder in folders[1:]:\n",
    "    db = FAISS.load_local(folder_path=folder, embeddings=embeddings, allow_dangerous_deserialization=True)\n",
    "    main_db.merge_from(db)\n",
    "\n",
    "# 將合併後的索引儲存到本地\n",
    "main_db.save_local(OUTPUT_DIR / \"ALL\")"
   ]
  },
  {
   "cell_type": "code",
   "execution_count": 156,
   "metadata": {},
   "outputs": [
    {
     "name": "stdout",
     "output_type": "stream",
     "text": [
      "599\n"
     ]
    }
   ],
   "source": [
    "print(main_db.index.ntotal)"
   ]
  },
  {
   "cell_type": "code",
   "execution_count": 157,
   "metadata": {},
   "outputs": [
    {
     "data": {
      "text/plain": [
       "[Document(page_content='左方視角\\niQ System® 智慧鑰匙卡感應器位置\\n「iQ System® 智慧鑰匙卡感應器」僅配備於使用無線鑰匙之車種。\\n![22_image_0.png](app/static/CrossOver/22_image_0.png)', metadata={'#': 'Gogoro Crossover 系列 Smartscooter® **智慧電動機車** 使用手冊', '##': '2.1 Crossover 各部位名稱', 'page': 22, 'car_model': 'CROSSOVER'}),\n",
       " Document(page_content='iQ System® 智慧鑰匙卡感應器的位置依車種不同,見下圖 :  ![37_image_0.png](app/static/CrossOver/37_image_0.png)  ![37_image_1.png](app/static/CrossOver/37_image_1.png)  ![37_image_2.png](app/static/CrossOver/37_image_2.png)  ![37_image_3.png](app/static/CrossOver/37_image_3.png)', metadata={'#': 'Gogoro Crossover 系列 Smartscooter® **智慧電動機車** 使用手冊', '##': '3. **準備上路**', '###': '3.2 **無線鑰匙車種**', '####': '3.2.2iQ System® 智慧鑰匙卡', '#####': '3.2.2.1 iQ System® 智慧鑰匙卡感應器位置', 'page': 38, 'car_model': 'CROSSOVER'}),\n",
       " Document(page_content='卡、信用卡等)同時觸碰感應區,避免感應不良。  金屬物品會屏蔽或干擾 iQ System® **智慧鑰匙卡或** Smart Coin **的感應信號,使用時請確保卡片或** Smart Coin **與感應器之間沒有異物遮擋。** 若卡片或 Smart Coin **接觸感應器的時間太短或位置偏差太遠,可能會造成感應失敗,請將其拿**\\n起、完全離開感應器後再試一次。', metadata={'#': 'Gogoro Crossover 系列 Smartscooter® **智慧電動機車** 使用手冊', '##': '3. **準備上路**', '###': '3.2 **無線鑰匙車種**', '####': '3.2.2iQ System® 智慧鑰匙卡', 'page': 37, 'car_model': 'CROSSOVER'}),\n",
       " Document(page_content='![11_image_0.png](app/static/CrossOver/11_image_0.png)  - iQ System® **智慧鑰匙卡具備** NFC **近距離無線通訊功能,只需將其輕觸車上之** iQ\\nSystem® **智慧鑰匙卡感應器,就能將** Smartscooter® **智慧電動機車開機解鎖或關機上**\\n鎖。  - 若要在關機狀態下開啟座墊下置物箱,請按住 「座墊開啟**鍵」不放,再將卡片輕觸車**\\n上之感應器即可。  - iQ System® **智慧鑰匙卡感應器的位置依車種不同,見下圖:**  ![11_image_1.png](app/static/CrossOver/11_image_1.png)  ![11_image_2.png](app/static/CrossOver/11_image_2.png)  ![12_image_0.png](app/static/CrossOver/12_image_0.png)  請妥善保管 iQ System® **智慧鑰匙卡,勿放置於陽光直射處或暴露於高溫下,不可彎折、磨損或裁**', metadata={'#': 'Gogoro Crossover 系列 Smartscooter® **智慧電動機車** 使用手冊', '##': '無線鑰匙車種', '####': 'iQ System® 智慧鑰匙卡', 'page': 12, 'car_model': 'CROSSOVER'})]"
      ]
     },
     "execution_count": 157,
     "metadata": {},
     "output_type": "execute_result"
    }
   ],
   "source": [
    "# query = \"如何開啟和關閉 Gogoro 電動機車的系統電源？\"\n",
    "query = \"智慧鑰匙卡感應器的位置在哪裡？\"\n",
    "retriever = main_db.as_retriever(search_kwargs={\"k\": 4, \"filter\": {\"car_model\": \"CROSSOVER\"}})\n",
    "docs = retriever.invoke(query)\n",
    "\n",
    "docs"
   ]
  },
  {
   "cell_type": "code",
   "execution_count": 158,
   "metadata": {},
   "outputs": [
    {
     "data": {
      "text/plain": [
       "[(Document(page_content='左方視角\\niQ System® 智慧鑰匙卡感應器位置\\n「iQ System® 智慧鑰匙卡感應器」僅配備於使用無線鑰匙之車種。\\n![22_image_0.png](app/static/CrossOver/22_image_0.png)', metadata={'#': 'Gogoro Crossover 系列 Smartscooter® **智慧電動機車** 使用手冊', '##': '2.1 Crossover 各部位名稱', 'page': 22, 'car_model': 'CROSSOVER'}),\n",
       "  0.5630743),\n",
       " (Document(page_content='iQ System® 智慧鑰匙卡感應器的位置依車種不同,見下圖 :  ![37_image_0.png](app/static/CrossOver/37_image_0.png)  ![37_image_1.png](app/static/CrossOver/37_image_1.png)  ![37_image_2.png](app/static/CrossOver/37_image_2.png)  ![37_image_3.png](app/static/CrossOver/37_image_3.png)', metadata={'#': 'Gogoro Crossover 系列 Smartscooter® **智慧電動機車** 使用手冊', '##': '3. **準備上路**', '###': '3.2 **無線鑰匙車種**', '####': '3.2.2iQ System® 智慧鑰匙卡', '#####': '3.2.2.1 iQ System® 智慧鑰匙卡感應器位置', 'page': 38, 'car_model': 'CROSSOVER'}),\n",
       "  0.65871334),\n",
       " (Document(page_content='卡、信用卡等)同時觸碰感應區,避免感應不良。  金屬物品會屏蔽或干擾 iQ System® **智慧鑰匙卡或** Smart Coin **的感應信號,使用時請確保卡片或** Smart Coin **與感應器之間沒有異物遮擋。** 若卡片或 Smart Coin **接觸感應器的時間太短或位置偏差太遠,可能會造成感應失敗,請將其拿**\\n起、完全離開感應器後再試一次。', metadata={'#': 'Gogoro Crossover 系列 Smartscooter® **智慧電動機車** 使用手冊', '##': '3. **準備上路**', '###': '3.2 **無線鑰匙車種**', '####': '3.2.2iQ System® 智慧鑰匙卡', 'page': 37, 'car_model': 'CROSSOVER'}),\n",
       "  0.8060151),\n",
       " (Document(page_content='![11_image_0.png](app/static/CrossOver/11_image_0.png)  - iQ System® **智慧鑰匙卡具備** NFC **近距離無線通訊功能,只需將其輕觸車上之** iQ\\nSystem® **智慧鑰匙卡感應器,就能將** Smartscooter® **智慧電動機車開機解鎖或關機上**\\n鎖。  - 若要在關機狀態下開啟座墊下置物箱,請按住 「座墊開啟**鍵」不放,再將卡片輕觸車**\\n上之感應器即可。  - iQ System® **智慧鑰匙卡感應器的位置依車種不同,見下圖:**  ![11_image_1.png](app/static/CrossOver/11_image_1.png)  ![11_image_2.png](app/static/CrossOver/11_image_2.png)  ![12_image_0.png](app/static/CrossOver/12_image_0.png)  請妥善保管 iQ System® **智慧鑰匙卡,勿放置於陽光直射處或暴露於高溫下,不可彎折、磨損或裁**', metadata={'#': 'Gogoro Crossover 系列 Smartscooter® **智慧電動機車** 使用手冊', '##': '無線鑰匙車種', '####': 'iQ System® 智慧鑰匙卡', 'page': 12, 'car_model': 'CROSSOVER'}),\n",
       "  0.8351904),\n",
       " (Document(page_content='切。  Gogoro **各系列自** 2020 **年式起開始,無線鑰匙車種均支援** iQ System® **智慧鑰匙卡及** Smart Coin。請勿將多張 iQ System® **智慧鑰匙卡  支援** iQ System® **智慧鑰匙卡及** Smart Coin。請勿將多張 iQ System® **智慧鑰匙卡或** Smart Coin **與其他具有非接觸感應功能的卡片(例如悠遊**\\n卡、信用卡等)同時觸碰感應區,避免感應不良。  金屬物品會屏蔽或干擾 iQ System® **智慧鑰匙卡或** Smart Coin **的感應信號,使用時請確保卡片或**\\nSmart Coin **與感應器之間沒有異物遮擋。**\\n若卡片或 Smart Coin **接觸感應器的時間太短或位置偏差太遠,可能會造成感應失敗,請將其拿**\\n起、完全離開感應器後再試一次。\\n13', metadata={'#': 'Gogoro Crossover 系列 Smartscooter® **智慧電動機車** 使用手冊', '##': '無線鑰匙車種', '####': 'iQ System® 智慧鑰匙卡', 'page': 12, 'car_model': 'CROSSOVER'}),\n",
       "  0.9120972)]"
      ]
     },
     "execution_count": 158,
     "metadata": {},
     "output_type": "execute_result"
    }
   ],
   "source": [
    "main_db.similarity_search_with_score(query, k=5, filter={\"car_model\": \"CROSSOVER\"})"
   ]
  },
  {
   "cell_type": "code",
   "execution_count": null,
   "metadata": {},
   "outputs": [],
   "source": []
  }
 ],
 "metadata": {
  "kernelspec": {
   "display_name": "NM",
   "language": "python",
   "name": "python3"
  },
  "language_info": {
   "codemirror_mode": {
    "name": "ipython",
    "version": 3
   },
   "file_extension": ".py",
   "mimetype": "text/x-python",
   "name": "python",
   "nbconvert_exporter": "python",
   "pygments_lexer": "ipython3",
   "version": "3.9.18"
  }
 },
 "nbformat": 4,
 "nbformat_minor": 2
}
